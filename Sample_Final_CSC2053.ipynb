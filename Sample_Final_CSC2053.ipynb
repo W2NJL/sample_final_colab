{
  "nbformat": 4,
  "nbformat_minor": 0,
  "metadata": {
    "colab": {
      "provenance": [],
      "authorship_tag": "ABX9TyP3C+WyJ6or9fB2AoQyBAMG",
      "include_colab_link": true
    },
    "kernelspec": {
      "name": "python3",
      "display_name": "Python 3"
    },
    "language_info": {
      "name": "python"
    }
  },
  "cells": [
    {
      "cell_type": "markdown",
      "metadata": {
        "id": "view-in-github",
        "colab_type": "text"
      },
      "source": [
        "<a href=\"https://colab.research.google.com/github/W2NJL/sample_final_colab/blob/main/Sample_Final_CSC2053.ipynb\" target=\"_parent\"><img src=\"https://colab.research.google.com/assets/colab-badge.svg\" alt=\"Open In Colab\"/></a>"
      ]
    },
    {
      "cell_type": "markdown",
      "source": [
        "# Task 1: Generate a Villanova Cheer"
      ],
      "metadata": {
        "id": "j4nbjhQsD1EV"
      }
    },
    {
      "cell_type": "code",
      "execution_count": null,
      "metadata": {
        "id": "TFEgTOEVDVuG"
      },
      "outputs": [],
      "source": [
        "import pandas as pd\n",
        "import numpy as np\n",
        "import matplotlib as plt\n",
        "import seaborn as sns\n"
      ]
    },
    {
      "cell_type": "code",
      "source": [
        "\n",
        "import random\n",
        "\n",
        "def villanova_cheer(names):\n",
        "    ### your code here ###\n",
        "    pass\n",
        "\n",
        "# Test cases for Task 1\n",
        "assert villanova_cheer([\"Alice\", \"Bob\", \"Charlie\"]) in [\n",
        "    \"Go Wildcats, Alice!\",\n",
        "    \"Go Wildcats, Bob!\",\n",
        "    \"Go Wildcats, Charlie!\",\n",
        "], \"Test failed: Cheer not in expected format\"\n",
        "print(\"Task 1 - Test 1 - Correct\")"
      ],
      "metadata": {
        "id": "CVoQqGEZhVK4"
      },
      "execution_count": null,
      "outputs": []
    },
    {
      "cell_type": "markdown",
      "source": [
        "# Task 2: Calculate Average Word Length"
      ],
      "metadata": {
        "id": "8h7mdjodhins"
      }
    },
    {
      "cell_type": "code",
      "source": [
        "# Task 2: Calculate Average Word Length\n",
        "def average_word_length(sentence):\n",
        "    ### your code here ###\n",
        "    pass\n",
        "\n",
        "# Test cases for Task 2\n",
        "assert round(average_word_length(\"The quick brown fox jumps over the lazy dog!\"), 2) == 3.89, \\\n",
        "    \"Test failed: average_word_length('The quick brown fox jumps over the lazy dog!') expected 3.89\"\n",
        "print(\"Task 2 - Test 1 - Correct\")\n",
        "\n",
        "assert round(average_word_length(\"Hello world!\"), 2) == 5.0, \\\n",
        "    \"Test failed: average_word_length('Hello world!') expected 5.0\"\n",
        "print(\"Task 2 - Test 2 - Correct\")"
      ],
      "metadata": {
        "id": "TW0HmxyDhluL"
      },
      "execution_count": null,
      "outputs": []
    },
    {
      "cell_type": "markdown",
      "source": [
        "# Task 3: Month Categorizer"
      ],
      "metadata": {
        "id": "j5V-neNjhwK_"
      }
    },
    {
      "cell_type": "code",
      "source": [
        "# Task 3: Month Categorizer\n",
        "# Primer:\n",
        "# The months of the year are represented numerically as follows:\n",
        "# 1 = January, 2 = February, ..., 12 = December.\n",
        "# Write a function that categorizes the month into seasons:\n",
        "# - Winter: December (12), January (1), February (2)\n",
        "# - Spring: March (3), April (4), May (5)\n",
        "# - Summer: June (6), July (7), August (8)\n",
        "# - Fall: September (9), October (10), November (11)\n",
        "# If the input is not a valid month (1-12), return \"Invalid month\".\n",
        "\n",
        "def month_categorizer(month):\n",
        "    ### your code here ###\n",
        "    pass\n",
        "\n",
        "# Test cases for Task 3\n",
        "assert month_categorizer(1) == \"Winter\", \"Test failed: month_categorizer(1) expected 'Winter'\"\n",
        "print(\"Task 3 - Test 1 - Correct\")\n",
        "\n",
        "assert month_categorizer(4) == \"Spring\", \"Test failed: month_categorizer(4) expected 'Spring'\"\n",
        "print(\"Task 3 - Test 2 - Correct\")\n",
        "\n",
        "assert month_categorizer(7) == \"Summer\", \"Test failed: month_categorizer(7) expected 'Summer'\"\n",
        "print(\"Task 3 - Test 3 - Correct\")\n",
        "\n",
        "assert month_categorizer(10) == \"Fall\", \"Test failed: month_categorizer(10) expected 'Fall'\"\n",
        "print(\"Task 3 - Test 4 - Correct\")\n",
        "\n",
        "assert month_categorizer(0) == \"Invalid month\", \"Test failed: month_categorizer(0) expected 'Invalid month'\"\n",
        "print(\"Task 3 - Test 5 - Correct\")\n",
        "\n",
        "assert month_categorizer(13) == \"Invalid month\", \"Test failed: month_categorizer(13) expected 'Invalid month'\"\n",
        "print(\"Task 3 - Test 6 - Correct\")"
      ],
      "metadata": {
        "id": "YcIwG6jgi4Er"
      },
      "execution_count": null,
      "outputs": []
    },
    {
      "cell_type": "markdown",
      "source": [
        "\t•\tLoad the provided CSV file (stations.csv) into a Pandas DataFrame.\n",
        "\t•\tDisplay the first 10 rows of the DataFrame.\n",
        "\t•\tCount the number of unique radio formats."
      ],
      "metadata": {
        "id": "X0elxQgOD1qF"
      }
    },
    {
      "cell_type": "markdown",
      "source": [
        "Task 4 (10 Points): Data Analysis with Pandas"
      ],
      "metadata": {
        "id": "7vJmEkRODtPm"
      }
    }
  ]
}